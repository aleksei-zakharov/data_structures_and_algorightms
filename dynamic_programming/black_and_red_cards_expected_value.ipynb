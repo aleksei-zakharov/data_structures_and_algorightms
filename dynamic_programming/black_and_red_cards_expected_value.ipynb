{
 "cells": [
  {
   "cell_type": "markdown",
   "metadata": {},
   "source": [
    "**Problem**: A player has a deck of cards with N black cards and M red cards. All cards are randomly shuffled. A player does not know the order of cards. A player draws cards one by one. Whenever a player draws:\n",
    "\n",
    "* a black card, she *pays* 1 dollar.\n",
    "* a red card, she *gets* 1 dollar.\n",
    "\n",
    "The player can decide to stop the game at any time. \n",
    "\n",
    "Calculate the expected profit in this game with N black cards and M red cards."
   ]
  },
  {
   "cell_type": "markdown",
   "metadata": {},
   "source": [
    "**Solution**\n",
    "\n",
    "We use the dynamic programming principle when a state depends on the others and we process all states step-by-step starting from the simplest ones.\n",
    "\n",
    "Let's create a matrix with n rows and m columns. Each cell (i,j) in the matrix represents the expected profit in this game when i black cards and j red cards are left in the game. Let's start filling up the matrix with values:\n",
    "\n",
    "* When there are **only black** cards in the game, i.e. states like (i, 0), a player decides not to play because she can't make a profit with such a deck, she will always lose money drawing black cards. So, values in all (i, 0) states in the matrix for any i from 0 to N are **zero**.\n",
    "\n",
    "* When there are **only red** cards in the game, i.e. states like (0, j), a player decides to play until the end of a deck because she makes a profit with such a deck, she will always make money drawing red cards. If there are 0 black cards and j red cards left in the deck, a player plays until the end of the deck and gets a profit of j dollars. So, values in all (0, j) states in the matrix for any j from 0 to M are **j**.\n",
    "\n",
    "* When there are i black cards and j red cards in the game, i.e. states like (i, j), a player can decide:\n",
    "\n",
    "    * **not to play** if she thinks that the expected profit from playing further will be zero. So, the minimum expected value in the (i,j) state is zero because a player \n",
    "    * **to play** and in this cases there are two options:\n",
    "    \n",
    "        * A player **draws a black card**. The probability of this event is **i/(i+j)** because a player has i black cards among i+j cards. In this case, a player loses 1 dollar for sure and comes to (i-1,j) state with i-1 black cards and j red cards. So, after drawing a black card, the expected profit is **the expected profit in (i-1, j) state minus 1 dollar**.\n",
    "\n",
    "        * A player **draws a red card**. The probability of this event is **j/(i+j)** because a player has j red cards among i+j cards. In this case, a player gets 1 dollar for sure and comes to (i,j-1) state with i black cards and j-1 red cards. So, after drawing a red card, the expected profit equals **the expected profit in (i, j-1) state plus 1 dollar**.\n",
    "\n",
    "So, the expected profit in (i,j) cell is equal to the probability-weighted sum of \"expected profit in the state (i-1,j) - 1\" and \"expected profit in the state (i,j-1) + 1\"\n",
    "\n",
    "To sum up, we start filling up (i,0) and (0,j) cells in the matrix and then we process all (i,j) states row-by-row, column-by-column starting from the lowest i and j values."
   ]
  },
  {
   "cell_type": "code",
   "execution_count": 1,
   "metadata": {},
   "outputs": [
    {
     "name": "stdout",
     "output_type": "stream",
     "text": [
      "Expected value of the game with 14 black cards and 14 red cards is 1.9132078241924781\n"
     ]
    }
   ],
   "source": [
    "import numpy as np\n",
    "\n",
    "def game_exp_value(n, m):\n",
    "    exp_pl = np.zeros((n + 1, m + 1)) # matrix of expected profits for (i,j) states\n",
    "\n",
    "    for j in range(m + 1):\n",
    "        exp_pl[0][j] = j # only red cards left in the deck -> for each red card, a player gets 1 dollar\n",
    "    # in all (i, 0) states where all cards are black, a player decides not to play -> exp profit is zero\n",
    "\n",
    "    for i in range(1, n + 1):  # we iterate all numbers of black cards from 1 to n\n",
    "        for j in range(1, m + 1):  # we iterate all numbers of red cards from 1 to m\n",
    "            exp_black = i / (i + j) * (exp_pl[i - 1][j] -1 )  # prob to draw a black card * (expected profit if a player drew a black card)\n",
    "            exp_red = j / (i + j) * (exp_pl[i][j - 1] + 1)  # prob to draw a red card * (expected profit if a player drew a red card)\n",
    "            exp_pl[i][j] = max(exp_black + exp_red, 0) # draw a card or stop\n",
    "        \n",
    "    return exp_pl[n][m]\n",
    "\n",
    "\n",
    "N = 15\n",
    "M = 15\n",
    "print('Expected value of the game with', N, 'black cards and', M, 'red cards is', game_exp_value(N, M))"
   ]
  }
 ],
 "metadata": {
  "kernelspec": {
   "display_name": "base",
   "language": "python",
   "name": "python3"
  },
  "language_info": {
   "codemirror_mode": {
    "name": "ipython",
    "version": 3
   },
   "file_extension": ".py",
   "mimetype": "text/x-python",
   "name": "python",
   "nbconvert_exporter": "python",
   "pygments_lexer": "ipython3",
   "version": "3.11.5"
  }
 },
 "nbformat": 4,
 "nbformat_minor": 2
}
